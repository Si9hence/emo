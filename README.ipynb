{
 "cells": [
  {
   "cell_type": "markdown",
   "metadata": {},
   "source": [
    "# WELCOME\n",
    "Please feel free to contact\n",
    "\n",
    "email: yulin.j@outlook.com\n",
    "\n",
    "wechat: si9hence\n",
    "\n",
    "for either new feature request or bug report\n",
    "\n",
    "\n",
    "This file is a brief demo of the workflow of ExoModO project.\n",
    "\n",
    "Before start, it is highly recommended to created a new environment based on the ./requirements.txt provided as some packages (actually request-html only) in this project will result unexpected behavior for python version > 3.6.13\n",
    "\n",
    "If you are using anaconda environment, just run the following code in your terminal\n",
    "```bash\n",
    "cd <your>/<path>/emo\n",
    "conda create --name emo python=3.6.13 -y\n",
    "conda activate emo\n",
    "pip install -r requirements.txt\n",
    "```"
   ]
  },
  {
   "cell_type": "markdown",
   "metadata": {},
   "source": [
    "**NOTE: this project is designed to work directly on the local environment on the exoweb server**\n",
    "\n",
    "remote control is not supported yet"
   ]
  },
  {
   "cell_type": "code",
   "execution_count": null,
   "metadata": {},
   "outputs": [],
   "source": [
    "import emo"
   ]
  },
  {
   "cell_type": "markdown",
   "metadata": {},
   "source": [
    "## load the configuration file\n",
    "\n",
    "The config.json file is in ./\n",
    "\n",
    "The config.json file defines the behavior of the project, mainly which dataset to be uploaded\n",
    "\n",
    "The config.json file accepts following keywords\n",
    "\n",
    "* urls: [str]\n",
    "    contains all the exomol web address to be registered\n",
    "\n",
    "* token: str  \n",
    "    token provided by Zenodo to call the REST api  \n",
    "    visit [https://developers.zenodo.org/] to see how to get a token  \n",
    "    PLEASE do replace the default token to your own token if you are registering the datasets  \n",
    "\n",
    "\n",
    "* selected: [str]  \n",
    "    the selected molecular property to be registered\n",
    "\n",
    "* path: str  \n",
    "    where the exomol database is stored"
   ]
  },
  {
   "cell_type": "code",
   "execution_count": null,
   "metadata": {},
   "outputs": [],
   "source": [
    "config = emo.load_config('./config.json')"
   ]
  },
  {
   "cell_type": "markdown",
   "metadata": {},
   "source": [
    "## upload the dataset\n",
    "\n",
    "The datasets will be uploaded to Zenodo server and could be viewed in the history of the Zenodo account associated to the token\n",
    "\n",
    "As a DOI will last forever once published, it is highly recommended to check the drafts manually before final submission."
   ]
  },
  {
   "cell_type": "code",
   "execution_count": null,
   "metadata": {},
   "outputs": [],
   "source": [
    "emo.emo_main(config)"
   ]
  },
  {
   "cell_type": "markdown",
   "metadata": {},
   "source": [
    "# publish all unpublished drafts"
   ]
  },
  {
   "cell_type": "code",
   "execution_count": null,
   "metadata": {},
   "outputs": [],
   "source": [
    "emo.publish(token=config.token)"
   ]
  },
  {
   "cell_type": "markdown",
   "metadata": {},
   "source": [
    "# Below are some supplementary functions"
   ]
  },
  {
   "cell_type": "markdown",
   "metadata": {},
   "source": [
    "## delete all unpublished drafts"
   ]
  },
  {
   "cell_type": "code",
   "execution_count": null,
   "metadata": {},
   "outputs": [],
   "source": [
    "emo.del_unpublished(token=config.token)"
   ]
  },
  {
   "cell_type": "markdown",
   "metadata": {},
   "source": [
    "## save the published record to ./\n",
    "\n",
    "file name is in the format YYYYMMDD.xlsx (e.g. 202201019.xlsx)"
   ]
  },
  {
   "cell_type": "code",
   "execution_count": null,
   "metadata": {},
   "outputs": [],
   "source": [
    "emo.rec_deposit(token=config.token)"
   ]
  }
 ],
 "metadata": {
  "interpreter": {
   "hash": "904e76187e34327d5fee31060ad92b5e9cf5200026da996a5621bf53e9269f1d"
  },
  "kernelspec": {
   "display_name": "Python 3.6.13 64-bit ('emo': conda)",
   "language": "python",
   "name": "python3"
  },
  "language_info": {
   "codemirror_mode": {
    "name": "ipython",
    "version": 3
   },
   "file_extension": ".py",
   "mimetype": "text/x-python",
   "name": "python",
   "nbconvert_exporter": "python",
   "pygments_lexer": "ipython3",
   "version": "3.6.13"
  },
  "orig_nbformat": 4
 },
 "nbformat": 4,
 "nbformat_minor": 2
}
